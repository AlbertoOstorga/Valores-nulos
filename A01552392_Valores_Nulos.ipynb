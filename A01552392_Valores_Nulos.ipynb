{
  "nbformat": 4,
  "nbformat_minor": 0,
  "metadata": {
    "colab": {
      "provenance": [],
      "authorship_tag": "ABX9TyPYy+gruN94jzW0JIsEAZoJ",
      "include_colab_link": true
    },
    "kernelspec": {
      "name": "python3",
      "display_name": "Python 3"
    },
    "language_info": {
      "name": "python"
    }
  },
  "cells": [
    {
      "cell_type": "markdown",
      "metadata": {
        "id": "view-in-github",
        "colab_type": "text"
      },
      "source": [
        "<a href=\"https://colab.research.google.com/github/AlbertoOstorga/Valores-nulos/blob/main/A01552392_Valores_Nulos.ipynb\" target=\"_parent\"><img src=\"https://colab.research.google.com/assets/colab-badge.svg\" alt=\"Open In Colab\"/></a>"
      ]
    },
    {
      "cell_type": "code",
      "execution_count": 55,
      "metadata": {
        "id": "PGFdxSC4O3dT"
      },
      "outputs": [],
      "source": [
        "#Importamos las librerias pandas, numpy y matplotlib respectivamente\n",
        "import pandas as pd\n",
        "import numpy as np\n",
        "import matplotlib.pyplot as plt"
      ]
    },
    {
      "cell_type": "code",
      "source": [
        "#Cargar achivo csv desde equipo\n",
        "from google.colab import files\n",
        "files.upload()"
      ],
      "metadata": {
        "id": "LvmVFnvjRIwu"
      },
      "execution_count": null,
      "outputs": []
    },
    {
      "cell_type": "code",
      "source": [
        "#Carga desde un archivo csv sin índice\n",
        "data= pd.read_csv('Ventas_totales.csv')\n",
        "data"
      ],
      "metadata": {
        "id": "TSSny1RGSe7v"
      },
      "execution_count": null,
      "outputs": []
    },
    {
      "cell_type": "code",
      "source": [
        "#Identificar valores nulos por columna\n",
        "valores_nulos=data.isnull().sum()\n",
        "valores_nulos"
      ],
      "metadata": {
        "id": "QV94_DHaUVnX"
      },
      "execution_count": null,
      "outputs": []
    },
    {
      "cell_type": "markdown",
      "source": [
        "# **SUSTITUCIÓN DE DATOS**"
      ],
      "metadata": {
        "id": "Jo-Sa0KRYJGH"
      }
    },
    {
      "cell_type": "code",
      "source": [
        "#Realizamos una copia del archivo\n",
        "data1 = data.copy()"
      ],
      "metadata": {
        "id": "1XUbtqwkYPqu"
      },
      "execution_count": 59,
      "outputs": []
    },
    {
      "cell_type": "code",
      "source": [
        "#Primer método de sustitución\n",
        "#Sustituir valores nulos por el promedio de la columna\n",
        "data1[\"tarjetas_debito\"] = data1[\"tarjetas_debito\"].fillna(round(data1[\"tarjetas_debito\"].mean(),1))"
      ],
      "metadata": {
        "id": "SVtBKzt7VXm4"
      },
      "execution_count": 60,
      "outputs": []
    },
    {
      "cell_type": "code",
      "source": [
        "#Segundo método de sustitución\n",
        "#Sustituir valores nulos de tarjetas credito con mediana\n",
        "data1[\"tarjetas_credito\"] = data1[\"tarjetas_credito\"].fillna(round(data1[\"tarjetas_credito\"].median(),1))"
      ],
      "metadata": {
        "id": "xgTlHNK1Xc0O"
      },
      "execution_count": 61,
      "outputs": []
    },
    {
      "cell_type": "code",
      "source": [
        "#Tercer método de sustitución de valores nulos\n",
        "#Sustituir valores nulos por un valor numérico en concreto (8)\n",
        "data1[\"otros_medios\"]= data1[\"otros_medios\"].fillna(8)"
      ],
      "metadata": {
        "id": "gWVsbnxcYK7_"
      },
      "execution_count": 62,
      "outputs": []
    },
    {
      "cell_type": "code",
      "source": [
        "#Quinto método de sustitución\n",
        "#Sustituir valores nulos por valores no nulos hacia adelante \"foward fill\" (\"ffill\")\n",
        "#Filtro por columna\n",
        "data1[\"salon_ventas\"] = data1[\"salon_ventas\"].fillna(method=\"ffill\")"
      ],
      "metadata": {
        "id": "0bWcYERlbaFE"
      },
      "execution_count": 63,
      "outputs": []
    },
    {
      "cell_type": "code",
      "source": [
        "#Sexto método de sustitución\n",
        "#Sustituir valores nulos por valores no nulos hacia atrás \"backward fill\" (\"bfill\")\n",
        "#Filtro por columna\n",
        "data1[\"subtotal_ventas_alimentos_bebidas\"] = data1[\"subtotal_ventas_alimentos_bebidas\"].fillna(method=\"bfill\")"
      ],
      "metadata": {
        "id": "6CP9Z10Jci6U"
      },
      "execution_count": 64,
      "outputs": []
    },
    {
      "cell_type": "code",
      "source": [
        "#Segundo método de sustitución\n",
        "#Sustituir valores nulos con mediana\n",
        "data1[\"bebidas\"] = data1[\"bebidas\"].fillna(round(data1[\"bebidas\"].median(),1))"
      ],
      "metadata": {
        "id": "FClWHsIahHu5"
      },
      "execution_count": 65,
      "outputs": []
    },
    {
      "cell_type": "code",
      "source": [
        "#Sexto método de sustitución\n",
        "#Sustituir valores nulos por valores no nulos hacia atrás \"backward fill\" (\"bfill\")\n",
        "#Filtro por columna\n",
        "data1[\"almacen\"] = data1[\"almacen\"].fillna(method=\"bfill\")"
      ],
      "metadata": {
        "id": "MmtTmruuhZ88"
      },
      "execution_count": 66,
      "outputs": []
    },
    {
      "cell_type": "code",
      "source": [
        "#Primer método de sustitución\n",
        "#Sustituir valores nulos por el promedio de la columna\n",
        "data1[\"panaderia\"] = data1[\"panaderia\"].fillna(round(data1[\"panaderia\"].mean(),1))"
      ],
      "metadata": {
        "id": "b9q0GCauhztD"
      },
      "execution_count": 67,
      "outputs": []
    },
    {
      "cell_type": "code",
      "source": [
        "#Sexto método de sustitución\n",
        "#Sustituir valores nulos por valores no nulos hacia atrás \"backward fill\" (\"bfill\")\n",
        "#Filtro por columna\n",
        "data1[\"lacteos\"] = data1[\"lacteos\"].fillna(method=\"bfill\")"
      ],
      "metadata": {
        "id": "0spiat5HiIUk"
      },
      "execution_count": 68,
      "outputs": []
    },
    {
      "cell_type": "code",
      "source": [
        "#Segundo método de sustitución\n",
        "#Sustituir valores nulos con mediana\n",
        "data1[\"carnes\"] = data1[\"carnes\"].fillna(round(data1[\"carnes\"].median(),1))"
      ],
      "metadata": {
        "id": "VSLCISN_ir9U"
      },
      "execution_count": 69,
      "outputs": []
    },
    {
      "cell_type": "code",
      "source": [
        "#Primer método de sustitución\n",
        "#Sustituir valores nulos por el promedio de la columna\n",
        "data1[\"verduleria_fruteria\"] = data1[\"verduleria_fruteria\"].fillna(round(data1[\"verduleria_fruteria\"].mean(),1))"
      ],
      "metadata": {
        "id": "u0rS39kgi3ol"
      },
      "execution_count": 70,
      "outputs": []
    },
    {
      "cell_type": "code",
      "source": [
        "#Quinto método de sustitución\n",
        "#Sustituir valores nulos por valores no nulos hacia adelante \"foward fill\" (\"ffill\")\n",
        "#Filtro por columna\n",
        "data1[\"alimentos_preparados_rotiseria\"] = data1[\"alimentos_preparados_rotiseria\"].fillna(method=\"ffill\")"
      ],
      "metadata": {
        "id": "6tEy2NcNjFIf"
      },
      "execution_count": 71,
      "outputs": []
    },
    {
      "cell_type": "code",
      "source": [
        "#Tercer método de sustitución de valores nulos\n",
        "#Sustituir valores nulos por un valor numérico en concreto (8)\n",
        "data1[\"indumentaria_calzado_textiles_hogar\"]= data1[\"indumentaria_calzado_textiles_hogar\"].fillna(200)"
      ],
      "metadata": {
        "id": "Kbbmmy-tjP8b"
      },
      "execution_count": 72,
      "outputs": []
    },
    {
      "cell_type": "code",
      "source": [
        "#Segundo método de sustitución\n",
        "#Sustituir valores nulos con mediana\n",
        "data1[\"electronicos_articulos_hogar\"] = data1[\"electronicos_articulos_hogar\"].fillna(round(data1[\"electronicos_articulos_hogar\"].median(),1))"
      ],
      "metadata": {
        "id": "5GCkljhDjXjW"
      },
      "execution_count": 73,
      "outputs": []
    },
    {
      "cell_type": "code",
      "source": [
        "#Primer método de sustitución\n",
        "#Sustituir valores nulos por el promedio de la columna\n",
        "data1[\"otros\"] = data1[\"otros\"].fillna(round(data1[\"otros\"].mean(),1))"
      ],
      "metadata": {
        "id": "iQUj9iFsjhjI"
      },
      "execution_count": 74,
      "outputs": []
    },
    {
      "cell_type": "code",
      "source": [
        "#Identificar valores nulos por columna\n",
        "valores_nulos=data1.isnull().sum()\n",
        "valores_nulos\n",
        "#El archivo csv está completamente limpio y listo para ser analizado"
      ],
      "metadata": {
        "id": "DlcmO5u-joVF"
      },
      "execution_count": null,
      "outputs": []
    },
    {
      "cell_type": "code",
      "source": [
        "#Covnertir DataFrame a CSV\n",
        "data1.to_csv(\"ventas_totales_sustitucion.csv\")"
      ],
      "metadata": {
        "id": "BGzOpQqFgkjz"
      },
      "execution_count": 76,
      "outputs": []
    },
    {
      "cell_type": "code",
      "source": [
        "#Descargar archivo filtrado en csv\n",
        "from google.colab import files\n",
        "files.download(\"ventas_totales_sustitucion.csv\")"
      ],
      "metadata": {
        "colab": {
          "base_uri": "https://localhost:8080/",
          "height": 17
        },
        "id": "rirSZqQHhCHE",
        "outputId": "4fc2c8c9-40e4-4a74-c6e5-7a38a6d0b712"
      },
      "execution_count": 77,
      "outputs": [
        {
          "output_type": "display_data",
          "data": {
            "text/plain": [
              "<IPython.core.display.Javascript object>"
            ],
            "application/javascript": [
              "\n",
              "    async function download(id, filename, size) {\n",
              "      if (!google.colab.kernel.accessAllowed) {\n",
              "        return;\n",
              "      }\n",
              "      const div = document.createElement('div');\n",
              "      const label = document.createElement('label');\n",
              "      label.textContent = `Downloading \"${filename}\": `;\n",
              "      div.appendChild(label);\n",
              "      const progress = document.createElement('progress');\n",
              "      progress.max = size;\n",
              "      div.appendChild(progress);\n",
              "      document.body.appendChild(div);\n",
              "\n",
              "      const buffers = [];\n",
              "      let downloaded = 0;\n",
              "\n",
              "      const channel = await google.colab.kernel.comms.open(id);\n",
              "      // Send a message to notify the kernel that we're ready.\n",
              "      channel.send({})\n",
              "\n",
              "      for await (const message of channel.messages) {\n",
              "        // Send a message to notify the kernel that we're ready.\n",
              "        channel.send({})\n",
              "        if (message.buffers) {\n",
              "          for (const buffer of message.buffers) {\n",
              "            buffers.push(buffer);\n",
              "            downloaded += buffer.byteLength;\n",
              "            progress.value = downloaded;\n",
              "          }\n",
              "        }\n",
              "      }\n",
              "      const blob = new Blob(buffers, {type: 'application/binary'});\n",
              "      const a = document.createElement('a');\n",
              "      a.href = window.URL.createObjectURL(blob);\n",
              "      a.download = filename;\n",
              "      div.appendChild(a);\n",
              "      a.click();\n",
              "      div.remove();\n",
              "    }\n",
              "  "
            ]
          },
          "metadata": {}
        },
        {
          "output_type": "display_data",
          "data": {
            "text/plain": [
              "<IPython.core.display.Javascript object>"
            ],
            "application/javascript": [
              "download(\"download_474252a7-5b68-44db-8122-4444a369c7e9\", \"ventas_totales_sustitucion.csv\", 18600)"
            ]
          },
          "metadata": {}
        }
      ]
    },
    {
      "cell_type": "markdown",
      "source": [
        "# **Eliminación de valores nulos**"
      ],
      "metadata": {
        "id": "U9Jf8B2Rj3UF"
      }
    },
    {
      "cell_type": "code",
      "source": [
        "#Realizamos una copia del dataframe\n",
        "data2=data.copy()"
      ],
      "metadata": {
        "id": "uKKdeqpVe8f7"
      },
      "execution_count": 78,
      "outputs": []
    },
    {
      "cell_type": "code",
      "source": [
        "#Eliminamos filas con nulos\n",
        "data3= data2.dropna(0)\n",
        "data3"
      ],
      "metadata": {
        "id": "D_GkPxqNfLaS"
      },
      "execution_count": null,
      "outputs": []
    },
    {
      "cell_type": "code",
      "source": [
        "#Corroborar valores nulos\n",
        "valores_nulos=data3.isnull().sum()\n",
        "valores_nulos"
      ],
      "metadata": {
        "id": "-SzmRkkRfidy"
      },
      "execution_count": null,
      "outputs": []
    },
    {
      "cell_type": "code",
      "source": [
        "#Covnertir DataFrame a CSV\n",
        "data1.to_csv(\"ventas_totales_eliminacion.csv\")"
      ],
      "metadata": {
        "id": "yCiSz3zJk4pC"
      },
      "execution_count": 81,
      "outputs": []
    },
    {
      "cell_type": "code",
      "source": [
        "#Descargar archivo filtrado en csv\n",
        "from google.colab import files\n",
        "files.download(\"ventas_totales_eliminacion.csv\")"
      ],
      "metadata": {
        "colab": {
          "base_uri": "https://localhost:8080/",
          "height": 17
        },
        "outputId": "ba406410-b099-45e2-fc3b-12f34243c670",
        "id": "H36swfmkk8Iq"
      },
      "execution_count": 82,
      "outputs": [
        {
          "output_type": "display_data",
          "data": {
            "text/plain": [
              "<IPython.core.display.Javascript object>"
            ],
            "application/javascript": [
              "\n",
              "    async function download(id, filename, size) {\n",
              "      if (!google.colab.kernel.accessAllowed) {\n",
              "        return;\n",
              "      }\n",
              "      const div = document.createElement('div');\n",
              "      const label = document.createElement('label');\n",
              "      label.textContent = `Downloading \"${filename}\": `;\n",
              "      div.appendChild(label);\n",
              "      const progress = document.createElement('progress');\n",
              "      progress.max = size;\n",
              "      div.appendChild(progress);\n",
              "      document.body.appendChild(div);\n",
              "\n",
              "      const buffers = [];\n",
              "      let downloaded = 0;\n",
              "\n",
              "      const channel = await google.colab.kernel.comms.open(id);\n",
              "      // Send a message to notify the kernel that we're ready.\n",
              "      channel.send({})\n",
              "\n",
              "      for await (const message of channel.messages) {\n",
              "        // Send a message to notify the kernel that we're ready.\n",
              "        channel.send({})\n",
              "        if (message.buffers) {\n",
              "          for (const buffer of message.buffers) {\n",
              "            buffers.push(buffer);\n",
              "            downloaded += buffer.byteLength;\n",
              "            progress.value = downloaded;\n",
              "          }\n",
              "        }\n",
              "      }\n",
              "      const blob = new Blob(buffers, {type: 'application/binary'});\n",
              "      const a = document.createElement('a');\n",
              "      a.href = window.URL.createObjectURL(blob);\n",
              "      a.download = filename;\n",
              "      div.appendChild(a);\n",
              "      a.click();\n",
              "      div.remove();\n",
              "    }\n",
              "  "
            ]
          },
          "metadata": {}
        },
        {
          "output_type": "display_data",
          "data": {
            "text/plain": [
              "<IPython.core.display.Javascript object>"
            ],
            "application/javascript": [
              "download(\"download_c7796049-367d-4f07-84e6-4db5fcb8ac1c\", \"ventas_totales_eliminacion.csv\", 18600)"
            ]
          },
          "metadata": {}
        }
      ]
    },
    {
      "cell_type": "markdown",
      "source": [
        "La principal diferencia que podemos encontrar entre los dos métodos utilizados es que en el caso de la eliminación contamos con una gran pérdida de datos ya que elimina todas aquellas filas que tienen información faltante."
      ],
      "metadata": {
        "id": "dCN4nYgjkdcY"
      }
    }
  ]
}